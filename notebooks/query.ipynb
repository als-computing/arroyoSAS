{
 "cells": [
  {
   "cell_type": "code",
   "execution_count": 1,
   "metadata": {},
   "outputs": [],
   "source": [
    "import os\n",
    "\n",
    "import dotenv\n",
    "from tiled.client import from_uri\n",
    "from tiled.queries import Contains, In, Key\n",
    "\n",
    "dotenv.load_dotenv(\"../.env\")\n",
    "c = from_uri(\"https://tiled.nsls2.bnl.gov\", api_key=os.getenv('TILED_LIVE_API_KEY'))\n",
    "smi = c['smi']\n",
    "\n"
   ]
  },
  {
   "cell_type": "code",
   "execution_count": 2,
   "metadata": {},
   "outputs": [],
   "source": [
    "scans = c[\"smi\"][\"raw\"].search(Key(\"num_points\") > 9).search(Contains(\"detectors\", \"pil900KW\")).values().tail(10)"
   ]
  },
  {
   "cell_type": "code",
   "execution_count": 5,
   "metadata": {},
   "outputs": [
    {
     "name": "stdout",
     "output_type": "stream",
     "text": [
      "https://tiled.nsls2.bnl.gov/api/v1/metadata/smi/raw/8a0b8a58-8c26-4e35-8237-38b1b8308816     https://tiled.nsls2.bnl.gov/api/v1/metadata/smi/raw/8a0b8a58-8c26-4e35-8237-38b1b8308816/primary/data/pil900KW_image\n",
      "https://tiled.nsls2.bnl.gov/api/v1/metadata/smi/raw/227d58a4-0150-4116-aa56-ba1acdde8aaf     https://tiled.nsls2.bnl.gov/api/v1/metadata/smi/raw/227d58a4-0150-4116-aa56-ba1acdde8aaf/primary/data/pil900KW_image\n",
      "https://tiled.nsls2.bnl.gov/api/v1/metadata/smi/raw/b3cee03f-d59c-4df4-89df-6ff49dd1961f     https://tiled.nsls2.bnl.gov/api/v1/metadata/smi/raw/b3cee03f-d59c-4df4-89df-6ff49dd1961f/primary/data/pil900KW_image\n",
      "https://tiled.nsls2.bnl.gov/api/v1/metadata/smi/raw/1d4b7707-4dcd-41b7-b979-f9ebcef16a38     https://tiled.nsls2.bnl.gov/api/v1/metadata/smi/raw/1d4b7707-4dcd-41b7-b979-f9ebcef16a38/primary/data/pil900KW_image\n",
      "https://tiled.nsls2.bnl.gov/api/v1/metadata/smi/raw/982609e5-c0c4-4b25-bfd2-74b17552a76a     https://tiled.nsls2.bnl.gov/api/v1/metadata/smi/raw/982609e5-c0c4-4b25-bfd2-74b17552a76a/primary/data/pil900KW_image\n",
      "https://tiled.nsls2.bnl.gov/api/v1/metadata/smi/raw/4eae4d6a-030c-4b1b-886c-aac0a705ea63     https://tiled.nsls2.bnl.gov/api/v1/metadata/smi/raw/4eae4d6a-030c-4b1b-886c-aac0a705ea63/primary/data/pil900KW_image\n",
      "https://tiled.nsls2.bnl.gov/api/v1/metadata/smi/raw/d1dc32ee-1685-473d-bf9f-5100b6af8df2     https://tiled.nsls2.bnl.gov/api/v1/metadata/smi/raw/d1dc32ee-1685-473d-bf9f-5100b6af8df2/primary/data/pil900KW_image\n",
      "https://tiled.nsls2.bnl.gov/api/v1/metadata/smi/raw/8a18c06b-0f7e-4a98-9b41-1fa3fe521a70     https://tiled.nsls2.bnl.gov/api/v1/metadata/smi/raw/8a18c06b-0f7e-4a98-9b41-1fa3fe521a70/primary/data/pil900KW_image\n",
      "https://tiled.nsls2.bnl.gov/api/v1/metadata/smi/raw/ee5a2b25-b2f9-4966-a61c-e932f2401c4c     https://tiled.nsls2.bnl.gov/api/v1/metadata/smi/raw/ee5a2b25-b2f9-4966-a61c-e932f2401c4c/primary/data/pil900KW_image\n",
      "https://tiled.nsls2.bnl.gov/api/v1/metadata/smi/raw/6050f8bf-01b8-4a9b-9ad2-fb8f41a35701     https://tiled.nsls2.bnl.gov/api/v1/metadata/smi/raw/6050f8bf-01b8-4a9b-9ad2-fb8f41a35701/primary/data/pil900KW_image\n"
     ]
    }
   ],
   "source": [
    "for scan in scans:\n",
    "    # print(f\"{scan.metadata['start']['uid']}  {scan.metadata['stop']['num_events']}\")\n",
    "    print(f\"{scan.uri}     {scan['primary']['data']['pil900KW_image'].uri}\")"
   ]
  },
  {
   "cell_type": "code",
   "execution_count": 6,
   "metadata": {},
   "outputs": [
    {
     "data": {
      "text/plain": [
       "{'uid': '6050f8bf-01b8-4a9b-9ad2-fb8f41a35701',\n",
       " 'time': 1738612925.1305254,\n",
       " 'beamline_name': 'SMI',\n",
       " 'facility': 'NSLS-II',\n",
       " 'optional_comments': '',\n",
       " 'SAF_number': 314795,\n",
       " 'proposal_number': '315591',\n",
       " 'path': '/nsls2/data/smi/legacy/results/data/2025_1/315591_Wilborn_09',\n",
       " 'scan_id': 876053,\n",
       " 'beamline_beamsize': 'micro_focusing',\n",
       " 'beamline_sample_environment': 'in-vacuum',\n",
       " 'beamline_attenuators': {},\n",
       " 'cycle': '2025_1',\n",
       " 'proposal_id': '315591_Wilborn_09',\n",
       " 'sample_name': 'MWZ1-oav-test-3_16.10keV_wa00.0_sdd1.6m',\n",
       " 'SAXS_setup': {'sdd': 1600,\n",
       "  'beam_centre': [467, 581],\n",
       "  'bs': 'rod',\n",
       "  'energy': 16100},\n",
       " 'main_proposer': 'Wilborn',\n",
       " 'user_name': 'MW',\n",
       " 'plan_type': 'generator',\n",
       " 'plan_name': 'count',\n",
       " 'detectors': ['pil900KW', 'OAV_writing'],\n",
       " 'num_points': 100,\n",
       " 'num_intervals': 99,\n",
       " 'plan_args': {'detectors': [\"Pilatus(prefix='XF:12IDC-ES:2{Det:900KW}', name='pil900KW', read_attrs=['cam', 'cam.file_number', 'tiff', 'stats1', 'stats1.total'], configuration_attrs=['cam', 'cam.acquire_period', 'cam.acquire_time', 'cam.image_mode', 'cam.manufacturer', 'cam.model', 'cam.num_exposures', 'cam.num_images', 'cam.trigger_mode', 'tiff', 'stats1', 'stats1.bgd_width', 'stats1.centroid_threshold', 'stats1.compute_centroid', 'stats1.compute_histogram', 'stats1.compute_profiles', 'stats1.compute_statistics', 'stats1.hist_max', 'stats1.hist_min', 'stats1.hist_size', 'stats1.profile_cursor', 'stats1.profile_size', 'stats1.ts_num_points'])\",\n",
       "   \"StandardProsilicaWithTIFFV33(prefix='XF:12IDC-BI{Cam:SAM}', name='OAV_writing', read_attrs=['stats1', 'stats1.total', 'stats2', 'stats2.total', 'stats3', 'stats3.total', 'stats4', 'stats4.total', 'stats5', 'stats5.total', 'tiff'], configuration_attrs=['cam', 'cam.acquire_period', 'cam.acquire_time', 'cam.image_mode', 'cam.manufacturer', 'cam.model', 'cam.num_exposures', 'cam.num_images', 'cam.trigger_mode', 'stats1', 'stats1.bgd_width', 'stats1.centroid_threshold', 'stats1.compute_centroid', 'stats1.compute_histogram', 'stats1.compute_profiles', 'stats1.compute_statistics', 'stats1.hist_max', 'stats1.hist_min', 'stats1.hist_size', 'stats1.profile_cursor', 'stats1.profile_size', 'stats1.ts_num_points', 'stats2', 'stats2.bgd_width', 'stats2.centroid_threshold', 'stats2.compute_centroid', 'stats2.compute_histogram', 'stats2.compute_profiles', 'stats2.compute_statistics', 'stats2.hist_max', 'stats2.hist_min', 'stats2.hist_size', 'stats2.profile_cursor', 'stats2.profile_size', 'stats2.ts_num_points', 'stats3', 'stats3.bgd_width', 'stats3.centroid_threshold', 'stats3.compute_centroid', 'stats3.compute_histogram', 'stats3.compute_profiles', 'stats3.compute_statistics', 'stats3.hist_max', 'stats3.hist_min', 'stats3.hist_size', 'stats3.profile_cursor', 'stats3.profile_size', 'stats3.ts_num_points', 'stats4', 'stats4.bgd_width', 'stats4.centroid_threshold', 'stats4.compute_centroid', 'stats4.compute_histogram', 'stats4.compute_profiles', 'stats4.compute_statistics', 'stats4.hist_max', 'stats4.hist_min', 'stats4.hist_size', 'stats4.profile_cursor', 'stats4.profile_size', 'stats4.ts_num_points', 'stats5', 'stats5.bgd_width', 'stats5.centroid_threshold', 'stats5.compute_centroid', 'stats5.compute_histogram', 'stats5.compute_profiles', 'stats5.compute_statistics', 'stats5.hist_max', 'stats5.hist_min', 'stats5.hist_size', 'stats5.profile_cursor', 'stats5.profile_size', 'stats5.ts_num_points', 'tiff'])\"],\n",
       "  'num': 100,\n",
       "  'delay': None},\n",
       " 'hints': {'dimensions': [[['time'], 'primary']]}}"
      ]
     },
     "execution_count": 6,
     "metadata": {},
     "output_type": "execute_result"
    }
   ],
   "source": [
    "scans[-1].metadata['start']"
   ]
  },
  {
   "cell_type": "code",
   "execution_count": null,
   "metadata": {},
   "outputs": [],
   "source": []
  }
 ],
 "metadata": {
  "kernelspec": {
   "display_name": "tiled",
   "language": "python",
   "name": "python3"
  },
  "language_info": {
   "codemirror_mode": {
    "name": "ipython",
    "version": 3
   },
   "file_extension": ".py",
   "mimetype": "text/x-python",
   "name": "python",
   "nbconvert_exporter": "python",
   "pygments_lexer": "ipython3",
   "version": "3.11.10"
  }
 },
 "nbformat": 4,
 "nbformat_minor": 2
}
