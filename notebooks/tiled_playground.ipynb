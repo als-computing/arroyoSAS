{
 "cells": [
  {
   "cell_type": "code",
   "execution_count": 5,
   "metadata": {},
   "outputs": [],
   "source": [
    "import os\n",
    "\n",
    "# from bluesky_tiled_plugins.queries import ScanID\n",
    "import dotenv\n",
    "from tiled.client import from_uri, tree\n",
    "from tiled.queries import Key\n",
    "\n",
    "\n",
    "dotenv.load_dotenv()\n",
    "c = from_uri(\"https://tiled.nsls2.bnl.gov\", api_key=os.getenv('TILED_LIVE_API_KEY'))\n",
    "\n"
   ]
  },
  {
   "cell_type": "code",
   "execution_count": 3,
   "metadata": {},
   "outputs": [],
   "source": [
    "# data = from_uri(c.uri + \"/smi/raw/8b4766a4-8e28-4914-94ac-0796398f1c57/primary/data/pil1M_image\")\n",
    "data = c['smi']['raw']['8b4766a4-8e28-4914-94ac-0796398f1c57']['primary']['data']['pil1M_image']\n",
    "# sand = c['smi']['sandbox']\n",
    "\n",
    "# # smi['843000']\n",
    "# tree(sand)"
   ]
  },
  {
   "cell_type": "code",
   "execution_count": 24,
   "metadata": {},
   "outputs": [
    {
     "ename": "KeyError",
     "evalue": "'No match for partial_uid start'",
     "output_type": "error",
     "traceback": [
      "\u001b[0;31m---------------------------------------------------------------------------\u001b[0m",
      "\u001b[0;31mKeyError\u001b[0m                                  Traceback (most recent call last)",
      "Cell \u001b[0;32mIn[24], line 1\u001b[0m\n\u001b[0;32m----> 1\u001b[0m scan \u001b[38;5;241m=\u001b[39m \u001b[43mc\u001b[49m\u001b[43m[\u001b[49m\u001b[38;5;124;43m\"\u001b[39;49m\u001b[38;5;124;43msmi\u001b[39;49m\u001b[38;5;124;43m\"\u001b[39;49m\u001b[43m]\u001b[49m\u001b[43m[\u001b[49m\u001b[38;5;124;43m\"\u001b[39;49m\u001b[38;5;124;43mraw\u001b[39;49m\u001b[38;5;124;43m\"\u001b[39;49m\u001b[43m]\u001b[49m\u001b[43m[\u001b[49m\u001b[38;5;124;43m\"\u001b[39;49m\u001b[38;5;124;43mstart\u001b[39;49m\u001b[38;5;124;43m\"\u001b[39;49m\u001b[43m]\u001b[49m\u001b[38;5;241m.\u001b[39msearch(Key(\u001b[38;5;124m\"\u001b[39m\u001b[38;5;124mscan_id\u001b[39m\u001b[38;5;124m\"\u001b[39m) \u001b[38;5;241m==\u001b[39m \u001b[38;5;241m8437352\u001b[39m)\n\u001b[1;32m      2\u001b[0m \u001b[38;5;28mlist\u001b[39m(scan\u001b[38;5;241m.\u001b[39mkeys())\n",
      "File \u001b[0;32m/usr/local/lib/python3.11/site-packages/bluesky_tiled_plugins/catalog_of_bluesky_runs.py:74\u001b[0m, in \u001b[0;36mCatalogOfBlueskyRuns.__getitem__\u001b[0;34m(self, key)\u001b[0m\n\u001b[1;32m     71\u001b[0m         \u001b[38;5;28;01mexcept\u001b[39;00m \u001b[38;5;167;01mKeyError\u001b[39;00m:\n\u001b[1;32m     72\u001b[0m             \u001b[38;5;66;03m# Fall back to partial uid lookup below.\u001b[39;00m\n\u001b[1;32m     73\u001b[0m             \u001b[38;5;28;01mpass\u001b[39;00m\n\u001b[0;32m---> 74\u001b[0m     \u001b[38;5;28;01mreturn\u001b[39;00m \u001b[38;5;28;43mself\u001b[39;49m\u001b[38;5;241;43m.\u001b[39;49m\u001b[43m_lookup_by_partial_uid\u001b[49m\u001b[43m(\u001b[49m\u001b[43mkey\u001b[49m\u001b[43m)\u001b[49m\n\u001b[1;32m     75\u001b[0m \u001b[38;5;28;01melif\u001b[39;00m \u001b[38;5;28misinstance\u001b[39m(key, numbers\u001b[38;5;241m.\u001b[39mIntegral):\n\u001b[1;32m     76\u001b[0m     \u001b[38;5;28;01mif\u001b[39;00m key \u001b[38;5;241m>\u001b[39m \u001b[38;5;241m0\u001b[39m:\n\u001b[1;32m     77\u001b[0m         \u001b[38;5;66;03m# CASE 2: Interpret key as a scan_id.\u001b[39;00m\n",
      "File \u001b[0;32m/usr/local/lib/python3.11/site-packages/bluesky_tiled_plugins/catalog_of_bluesky_runs.py:112\u001b[0m, in \u001b[0;36mCatalogOfBlueskyRuns._lookup_by_partial_uid\u001b[0;34m(self, partial_uid)\u001b[0m\n\u001b[1;32m    110\u001b[0m results \u001b[38;5;241m=\u001b[39m \u001b[38;5;28mself\u001b[39m\u001b[38;5;241m.\u001b[39msearch(PartialUID(partial_uid))\n\u001b[1;32m    111\u001b[0m \u001b[38;5;28;01mif\u001b[39;00m \u001b[38;5;129;01mnot\u001b[39;00m results:\n\u001b[0;32m--> 112\u001b[0m     \u001b[38;5;28;01mraise\u001b[39;00m \u001b[38;5;167;01mKeyError\u001b[39;00m(\u001b[38;5;124mf\u001b[39m\u001b[38;5;124m\"\u001b[39m\u001b[38;5;124mNo match for partial_uid \u001b[39m\u001b[38;5;132;01m{\u001b[39;00mpartial_uid\u001b[38;5;132;01m}\u001b[39;00m\u001b[38;5;124m\"\u001b[39m)\n\u001b[1;32m    113\u001b[0m \u001b[38;5;28;01melse\u001b[39;00m:\n\u001b[1;32m    114\u001b[0m     \u001b[38;5;66;03m# By construction there must be only one result. Return it.\u001b[39;00m\n\u001b[1;32m    115\u001b[0m     \u001b[38;5;28;01mreturn\u001b[39;00m results\u001b[38;5;241m.\u001b[39mvalues()\u001b[38;5;241m.\u001b[39mfirst()\n",
      "\u001b[0;31mKeyError\u001b[0m: 'No match for partial_uid start'"
     ]
    }
   ],
   "source": [
    "scan = c[\"smi\"][\"raw\"][\"start\"].search(Key(\"scan_id\") == 8437352)\n",
    "list(scan.keys())"
   ]
  },
  {
   "cell_type": "code",
   "execution_count": 34,
   "metadata": {},
   "outputs": [
    {
     "name": "stdout",
     "output_type": "stream",
     "text": [
      " 3e253a6d-ba56-483a-b663-5cb2176c33c2  <ArrayClient shape=(360, 1, 1043, 981) chunks=((10, 10, 10, 10, 10, 10, 10, 10, 10, 10, 10, 10, 10, 10, 10, 10, 10, 10, 10, 10, 10, 10, 10, 10, 10, 10, 10, 10, 10, 10, 10, 10, 10, 10, 10, 10), (1,), (1043,), (981,)) dtype=int32 dims=('time', 'dim_0', 'dim_1', 'dim_2')>  \n",
      " 434d2ff5-b1dd-407d-8a3f-fcd24b2ffb7b  <ArrayClient shape=(50, 1, 1043, 981) chunks=((10, 10, 10, 10, 10), (1,), (1043,), (981,)) dtype=int32 dims=('time', 'dim_3', 'dim_4', 'dim_5')>  \n",
      " 225b6b70-3175-4284-98a4-c8b8f40e7d55  <ArrayClient shape=(50, 1, 1043, 981) chunks=((10, 10, 10, 10, 10), (1,), (1043,), (981,)) dtype=int32 dims=('time', 'dim_3', 'dim_4', 'dim_5')>  \n",
      " 927eae2d-ef36-4371-a39d-9619be713846  <ArrayClient shape=(21, 1, 1043, 981) chunks=((10, 10, 1), (1,), (1043,), (981,)) dtype=int32 dims=('time', 'dim_0', 'dim_1', 'dim_2')>  \n",
      " 0df63839-0e4d-49f1-9cf6-10f69af9d4f3  <ArrayClient shape=(21, 1, 1043, 981) chunks=((10, 10, 1), (1,), (1043,), (981,)) dtype=int32 dims=('time', 'dim_0', 'dim_1', 'dim_2')>  \n",
      " a5638dc6-c3fe-424d-8b93-78b5d21afc0c  <ArrayClient shape=(31, 1, 1043, 981) chunks=((10, 10, 10, 1), (1,), (1043,), (981,)) dtype=int32 dims=('time', 'dim_0', 'dim_1', 'dim_2')>  \n",
      " cdb84f4f-7f6e-4558-a2b0-13db2dbe369a  <ArrayClient shape=(21, 1, 1043, 981) chunks=((10, 10, 1), (1,), (1043,), (981,)) dtype=int32 dims=('time', 'dim_0', 'dim_1', 'dim_2')>  \n",
      " 238e228b-1111-4081-9b06-0275f7c52397  <ArrayClient shape=(21, 1, 1043, 981) chunks=((10, 10, 1), (1,), (1043,), (981,)) dtype=int32 dims=('time', 'dim_0', 'dim_1', 'dim_2')>  \n",
      " 744a7524-0453-424b-9926-1dc70f80d2a8  <ArrayClient shape=(360, 1, 1043, 981) chunks=((10, 10, 10, 10, 10, 10, 10, 10, 10, 10, 10, 10, 10, 10, 10, 10, 10, 10, 10, 10, 10, 10, 10, 10, 10, 10, 10, 10, 10, 10, 10, 10, 10, 10, 10, 10), (1,), (1043,), (981,)) dtype=int32 dims=('time', 'dim_0', 'dim_1', 'dim_2')>  \n",
      " cd38c600-8d4b-4651-a1fb-e20709e3f538  <ArrayClient shape=(21, 1, 1043, 981) chunks=((10, 10, 1), (1,), (1043,), (981,)) dtype=int32 dims=('time', 'dim_0', 'dim_1', 'dim_2')>  \n",
      " 93e33ee5-02cd-461e-a73b-549ed6702e33  <ArrayClient shape=(21, 1, 1043, 981) chunks=((10, 10, 1), (1,), (1043,), (981,)) dtype=int32 dims=('time', 'dim_0', 'dim_1', 'dim_2')>  \n",
      " 1d8e96c5-6578-4539-a449-9b2e53f3d79b  <ArrayClient shape=(31, 1, 1043, 981) chunks=((10, 10, 10, 1), (1,), (1043,), (981,)) dtype=int32 dims=('time', 'dim_0', 'dim_1', 'dim_2')>  \n",
      " 7ef282dc-3c4b-4f86-a6c6-8a0cfbdb8234  <ArrayClient shape=(21, 1, 1043, 981) chunks=((10, 10, 1), (1,), (1043,), (981,)) dtype=int32 dims=('time', 'dim_0', 'dim_1', 'dim_2')>  \n",
      " c8f2e3f4-faf6-4895-a80a-efaf6a6d35a2  <ArrayClient shape=(21, 1, 1043, 981) chunks=((10, 10, 1), (1,), (1043,), (981,)) dtype=int32 dims=('time', 'dim_0', 'dim_1', 'dim_2')>  \n",
      " 47ed37ea-fe12-4ccd-8012-a7a0597d5cc5  <ArrayClient shape=(240, 1, 1043, 981) chunks=((10, 10, 10, 10, 10, 10, 10, 10, 10, 10, 10, 10, 10, 10, 10, 10, 10, 10, 10, 10, 10, 10, 10, 10), (1,), (1043,), (981,)) dtype=int32 dims=('time', 'dim_0', 'dim_1', 'dim_2')>  \n",
      " e35eab00-b9e8-40e1-b8d9-7df99750c6c4  <ArrayClient shape=(50, 1, 1043, 981) chunks=((10, 10, 10, 10, 10), (1,), (1043,), (981,)) dtype=int32 dims=('time', 'dim_3', 'dim_4', 'dim_5')>  \n",
      " 44641186-c2ce-4f4c-bfb9-a11716296243  <ArrayClient shape=(21, 1, 1043, 981) chunks=((10, 10, 1), (1,), (1043,), (981,)) dtype=int32 dims=('time', 'dim_0', 'dim_1', 'dim_2')>  \n",
      " 7e4b1c46-dd20-4f06-a9a7-e3953e9861ec  <ArrayClient shape=(21, 1, 1043, 981) chunks=((10, 10, 1), (1,), (1043,), (981,)) dtype=int32 dims=('time', 'dim_0', 'dim_1', 'dim_2')>  \n",
      " 7a657a81-c81c-4531-987b-1273f441d4cc  <ArrayClient shape=(31, 1, 1043, 981) chunks=((10, 10, 10, 1), (1,), (1043,), (981,)) dtype=int32 dims=('time', 'dim_0', 'dim_1', 'dim_2')>  \n",
      " de194025-481f-4243-9da7-c34ef8cf2e96  <ArrayClient shape=(21, 1, 1043, 981) chunks=((10, 10, 1), (1,), (1043,), (981,)) dtype=int32 dims=('time', 'dim_0', 'dim_1', 'dim_2')>  \n",
      " 0674b351-d9fd-47e3-9af7-ae9442b98e9e  <ArrayClient shape=(21, 1, 1043, 981) chunks=((10, 10, 1), (1,), (1043,), (981,)) dtype=int32 dims=('time', 'dim_0', 'dim_1', 'dim_2')>  \n",
      " e6118477-665d-4773-b50c-6b742486501a  <ArrayClient shape=(240, 1, 1043, 981) chunks=((10, 10, 10, 10, 10, 10, 10, 10, 10, 10, 10, 10, 10, 10, 10, 10, 10, 10, 10, 10, 10, 10, 10, 10), (1,), (1043,), (981,)) dtype=int32 dims=('time', 'dim_0', 'dim_1', 'dim_2')>  \n",
      " 6f022af5-f113-46d1-b8fc-9eb7c5b474e3  <ArrayClient shape=(1, 1, 1043, 981) chunks=((1,), (1,), (1043,), (981,)) dtype=int32 dims=('time', 'dim_3', 'dim_4', 'dim_5')>  \n",
      " dbfab50f-e35b-44c7-88aa-66b9e3b7fe20  <ArrayClient shape=(21, 1, 1043, 981) chunks=((10, 10, 1), (1,), (1043,), (981,)) dtype=int32 dims=('time', 'dim_0', 'dim_1', 'dim_2')>  \n",
      " 488488ea-e52b-4cbd-83b4-10117748ad4e  <ArrayClient shape=(21, 1, 1043, 981) chunks=((10, 10, 1), (1,), (1043,), (981,)) dtype=int32 dims=('time', 'dim_0', 'dim_1', 'dim_2')>  \n",
      " 01a98f5d-5038-4843-9d33-ce577a936e0c  <ArrayClient shape=(31, 1, 1043, 981) chunks=((10, 10, 10, 1), (1,), (1043,), (981,)) dtype=int32 dims=('time', 'dim_0', 'dim_1', 'dim_2')>  \n",
      " 82acbfc0-d242-40fa-b0e8-6cef8242ccdd  <ArrayClient shape=(21, 1, 1043, 981) chunks=((10, 10, 1), (1,), (1043,), (981,)) dtype=int32 dims=('time', 'dim_0', 'dim_1', 'dim_2')>  \n",
      " 872d574f-ee36-4527-9142-88c1d1fc8a0e  <ArrayClient shape=(21, 1, 1043, 981) chunks=((10, 10, 1), (1,), (1043,), (981,)) dtype=int32 dims=('time', 'dim_0', 'dim_1', 'dim_2')>  \n",
      " f46705de-293c-45dc-aa4b-cd2404846808  <ArrayClient shape=(360, 1, 1043, 981) chunks=((10, 10, 10, 10, 10, 10, 10, 10, 10, 10, 10, 10, 10, 10, 10, 10, 10, 10, 10, 10, 10, 10, 10, 10, 10, 10, 10, 10, 10, 10, 10, 10, 10, 10, 10, 10), (1,), (1043,), (981,)) dtype=int32 dims=('time', 'dim_0', 'dim_1', 'dim_2')>  \n",
      " 2445c19d-ecca-4df9-b928-7cbb96954090  <ArrayClient shape=(1, 1, 1043, 981) chunks=((1,), (1,), (1043,), (981,)) dtype=int32 dims=('time', 'dim_3', 'dim_4', 'dim_5')>  \n",
      " 96395537-cdc6-4baa-96a1-99be6b562606  <ArrayClient shape=(1, 1, 1043, 981) chunks=((1,), (1,), (1043,), (981,)) dtype=int32 dims=('time', 'dim_3', 'dim_4', 'dim_5')>  \n",
      " 824ac170-bdfd-4b43-9fe4-cea51aee5d43  <ArrayClient shape=(1, 1, 1043, 981) chunks=((1,), (1,), (1043,), (981,)) dtype=int32 dims=('time', 'dim_3', 'dim_4', 'dim_5')>  \n",
      " b9abf1ec-be73-4d9f-9b5a-be1d9aa3c572  <ArrayClient shape=(3, 1, 1043, 981) chunks=((3,), (1,), (1043,), (981,)) dtype=int32 dims=('time', 'dim_0', 'dim_1', 'dim_2')>  \n",
      " ca762cbb-9ece-4362-965a-1780546b2394  <ArrayClient shape=(3, 1, 1043, 981) chunks=((3,), (1,), (1043,), (981,)) dtype=int32 dims=('time', 'dim_0', 'dim_1', 'dim_2')>  \n",
      " 8211e784-85a7-4bb0-b5c6-344f4ce8b0ef  <ArrayClient shape=(1, 1, 1043, 981) chunks=((1,), (1,), (1043,), (981,)) dtype=int32 dims=('time', 'dim_3', 'dim_4', 'dim_5')>  \n",
      " 18fed3ca-d608-4787-b6e1-0a543490963f  <ArrayClient shape=(1, 1, 1043, 981) chunks=((1,), (1,), (1043,), (981,)) dtype=int32 dims=('time', 'dim_0', 'dim_1', 'dim_2')>  \n",
      " 65142c3d-1b76-4a4c-a89f-489646e12415  <ArrayClient shape=(1, 1, 1043, 981) chunks=((1,), (1,), (1043,), (981,)) dtype=int32 dims=('time', 'dim_0', 'dim_1', 'dim_2')>  \n",
      " 45121fda-6f51-4a0d-a32c-d1ee25bc91a2  <ArrayClient shape=(1, 1, 1043, 981) chunks=((1,), (1,), (1043,), (981,)) dtype=int32 dims=('time', 'dim_0', 'dim_1', 'dim_2')>  \n",
      " 2fab1fd0-fd46-489f-89f9-52bd360fd233  <ArrayClient shape=(1, 1, 1043, 981) chunks=((1,), (1,), (1043,), (981,)) dtype=int32 dims=('time', 'dim_3', 'dim_4', 'dim_5')>  \n",
      " a46cf611-509b-4278-98d8-1150b5368ffa  <ArrayClient shape=(21, 1, 1043, 981) chunks=((10, 10, 1), (1,), (1043,), (981,)) dtype=int32 dims=('time', 'dim_0', 'dim_1', 'dim_2')>  \n",
      " 628094fd-0456-4152-b1af-36aaa2c89815  <ArrayClient shape=(21, 1, 1043, 981) chunks=((10, 10, 1), (1,), (1043,), (981,)) dtype=int32 dims=('time', 'dim_0', 'dim_1', 'dim_2')>  \n",
      " 53d22a55-3a7f-4c9d-9cc7-7b66a1a16b76  <ArrayClient shape=(31, 1, 1043, 981) chunks=((10, 10, 10, 1), (1,), (1043,), (981,)) dtype=int32 dims=('time', 'dim_0', 'dim_1', 'dim_2')>  \n",
      " 5ff001d3-8bf5-4544-9c83-87eef18b1957  <ArrayClient shape=(5, 1, 1043, 981) chunks=((5,), (1,), (1043,), (981,)) dtype=int32 dims=('time', 'dim_0', 'dim_1', 'dim_2')>  \n",
      " 4da92024-2a16-4c45-b911-e502178928e1  <ArrayClient shape=(1, 1, 1043, 981) chunks=((1,), (1,), (1043,), (981,)) dtype=int32 dims=('time', 'dim_3', 'dim_4', 'dim_5')>  \n",
      " 0b6916b2-d246-44d8-81c0-9ce2a049fc80  <ArrayClient shape=(21, 1, 1043, 981) chunks=((10, 10, 1), (1,), (1043,), (981,)) dtype=int32 dims=('time', 'dim_0', 'dim_1', 'dim_2')>  \n",
      " 1e09cfd9-4ac3-459d-8597-d4acf4c48fdf  <ArrayClient shape=(21, 1, 1043, 981) chunks=((10, 10, 1), (1,), (1043,), (981,)) dtype=int32 dims=('time', 'dim_0', 'dim_1', 'dim_2')>  \n",
      " 0bebc019-53ae-497f-a49d-8af089cb5637  <ArrayClient shape=(31, 1, 1043, 981) chunks=((10, 10, 10, 1), (1,), (1043,), (981,)) dtype=int32 dims=('time', 'dim_0', 'dim_1', 'dim_2')>  \n",
      " 0b2a59e1-4782-4d76-98c8-1f90de5bbdca  <ArrayClient shape=(21, 1, 1043, 981) chunks=((10, 10, 1), (1,), (1043,), (981,)) dtype=int32 dims=('time', 'dim_0', 'dim_1', 'dim_2')>  \n",
      " 1c8fa2a0-fbee-4e30-a868-fb521d0f62d5  <ArrayClient shape=(21, 1, 1043, 981) chunks=((10, 10, 1), (1,), (1043,), (981,)) dtype=int32 dims=('time', 'dim_0', 'dim_1', 'dim_2')>  \n",
      " 50564d01-ff38-42c5-a505-1f9b47656590  <ArrayClient shape=(1, 1, 1043, 981) chunks=((1,), (1,), (1043,), (981,)) dtype=int32 dims=('time', 'dim_3', 'dim_4', 'dim_5')>  \n",
      " d52a914f-a38b-4cc0-b9ea-9f200a252a1d  <ArrayClient shape=(1, 1, 1043, 981) chunks=((1,), (1,), (1043,), (981,)) dtype=int32 dims=('time', 'dim_3', 'dim_4', 'dim_5')>  \n",
      " f8d1b87a-5637-487c-b8ee-eb34e5605e5c  <ArrayClient shape=(1, 1, 1043, 981) chunks=((1,), (1,), (1043,), (981,)) dtype=int32 dims=('time', 'dim_3', 'dim_4', 'dim_5')>  \n",
      " 41ce6176-7c74-4a73-9e4c-9f87a0ce1a57  <ArrayClient shape=(1, 1, 1043, 981) chunks=((1,), (1,), (1043,), (981,)) dtype=int32 dims=('time', 'dim_0', 'dim_1', 'dim_2')>  \n",
      " bbf799ad-4364-4296-bdaa-cc09641e9441  <ArrayClient shape=(1, 1, 1043, 981) chunks=((1,), (1,), (1043,), (981,)) dtype=int32 dims=('time', 'dim_0', 'dim_1', 'dim_2')>  \n",
      " 146799b9-d54b-4ef4-9b8b-527e47af899c  <ArrayClient shape=(1, 1, 1043, 981) chunks=((1,), (1,), (1043,), (981,)) dtype=int32 dims=('time', 'dim_3', 'dim_4', 'dim_5')>  \n",
      " 82bbf140-4450-4905-bbbf-edfbef4da705  <ArrayClient shape=(1, 1, 1043, 981) chunks=((1,), (1,), (1043,), (981,)) dtype=int32 dims=('time', 'dim_3', 'dim_4', 'dim_5')>  \n",
      " cd110ecb-c7cd-4ab3-8d15-66c6ea1411a6  <ArrayClient shape=(1, 1, 1043, 981) chunks=((1,), (1,), (1043,), (981,)) dtype=int32 dims=('time', 'dim_3', 'dim_4', 'dim_5')>  \n",
      " 5b67464a-b8cc-4c9b-946d-1142092a9651  <ArrayClient shape=(1, 1, 1043, 981) chunks=((1,), (1,), (1043,), (981,)) dtype=int32 dims=('time', 'dim_3', 'dim_4', 'dim_5')>  \n",
      " 8b22e1f7-729d-4b98-99b5-34a190d09d47  <ArrayClient shape=(1, 1, 1043, 981) chunks=((1,), (1,), (1043,), (981,)) dtype=int32 dims=('time', 'dim_3', 'dim_4', 'dim_5')>  \n"
     ]
    }
   ],
   "source": [
    "keys = c['smi']['raw'].keys()[-1: -60: -1]\n",
    "\n",
    "for uid in keys[::-1]:\n",
    "    print(f\" {uid}  {c['smi']['raw'][uid]['primary']['data']['pil1M_image']}  \")\n",
    "\n",
    "# scan['7f2074aa-c3d5-4510-8ac1-d8d2500a53b4']\n",
    "\n",
    "# smi['raw'][results.keys()[0]]\n",
    "#pil1M_image  saxs\n",
    "#pil900kw waxs"
   ]
  },
  {
   "cell_type": "code",
   "execution_count": null,
   "metadata": {},
   "outputs": [],
   "source": [
    "import bluesky_tiled_plugins.queries.ScanID"
   ]
  },
  {
   "cell_type": "code",
   "execution_count": 1,
   "metadata": {},
   "outputs": [
    {
     "ename": "NameError",
     "evalue": "name 'scan' is not defined",
     "output_type": "error",
     "traceback": [
      "\u001b[0;31m---------------------------------------------------------------------------\u001b[0m",
      "\u001b[0;31mNameError\u001b[0m                                 Traceback (most recent call last)",
      "Cell \u001b[0;32mIn[1], line 11\u001b[0m\n\u001b[1;32m      6\u001b[0m     container \u001b[38;5;241m=\u001b[39m  reduce(operator\u001b[38;5;241m.\u001b[39mgetitem, segments, run)\n\u001b[1;32m      7\u001b[0m     \u001b[38;5;28;01mreturn\u001b[39;00m container\n\u001b[0;32m---> 11\u001b[0m data \u001b[38;5;241m=\u001b[39m run_frames(\u001b[43mscan\u001b[49m, [\u001b[38;5;124m'\u001b[39m\u001b[38;5;124mprimary\u001b[39m\u001b[38;5;124m'\u001b[39m, \u001b[38;5;124m'\u001b[39m\u001b[38;5;124mdata\u001b[39m\u001b[38;5;124m'\u001b[39m, \u001b[38;5;124m'\u001b[39m\u001b[38;5;124mpil900KW_image\u001b[39m\u001b[38;5;124m'\u001b[39m])\n\u001b[1;32m     12\u001b[0m data\n",
      "\u001b[0;31mNameError\u001b[0m: name 'scan' is not defined"
     ]
    }
   ],
   "source": [
    "from tiled.client.container import Container\n",
    "from functools import reduce\n",
    "import operator\n",
    "\n",
    "def run_frames(run: Container, segments: list):\n",
    "    container =  reduce(operator.getitem, segments, run)\n",
    "    return container\n",
    "\n",
    "\n",
    "\n",
    "data = run_frames(scan, ['primary', 'data', 'pil900KW_image'])\n",
    "data"
   ]
  },
  {
   "cell_type": "code",
   "execution_count": null,
   "metadata": {},
   "outputs": [],
   "source": [
    "data.shape"
   ]
  },
  {
   "cell_type": "code",
   "execution_count": 12,
   "metadata": {},
   "outputs": [
    {
     "name": "stdout",
     "output_type": "stream",
     "text": [
      "(600, 1, 619, 1475)\n"
     ]
    }
   ],
   "source": [
    "scan = smi['c21d472b-4241-4f48-8d62-a0b56e1d471d']\n",
    "frame_array = scan['primary']['data']['pil900KW_image']\n",
    "print(frame_array.shape)\n"
   ]
  },
  {
   "cell_type": "code",
   "execution_count": null,
   "metadata": {},
   "outputs": [
    {
     "data": {
      "text/plain": [
       "[[[-2  0  0 ...  0  0 -2]\n",
       "  [ 0  0  0 ...  0  0  0]\n",
       "  [ 0  0  0 ...  0  0  0]\n",
       "  ...\n",
       "  [ 0  0  0 ...  0  0  0]\n",
       "  [ 0  0  0 ...  0  0  0]\n",
       "  [ 0  0  0 ...  0  0  0]]]\n"
      ]
     },
     "metadata": {},
     "output_type": "display_data"
    }
   ],
   "source": [
    "frame_array[33]"
   ]
  },
  {
   "cell_type": "code",
   "execution_count": null,
   "metadata": {},
   "outputs": [],
   "source": []
  }
 ],
 "metadata": {
  "kernelspec": {
   "display_name": "Python 3",
   "language": "python",
   "name": "python3"
  },
  "language_info": {
   "codemirror_mode": {
    "name": "ipython",
    "version": 3
   },
   "file_extension": ".py",
   "mimetype": "text/x-python",
   "name": "python",
   "nbconvert_exporter": "python",
   "pygments_lexer": "ipython3",
   "version": "3.11.11"
  }
 },
 "nbformat": 4,
 "nbformat_minor": 2
}
