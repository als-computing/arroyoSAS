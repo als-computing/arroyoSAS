{
 "cells": [
  {
   "cell_type": "code",
   "execution_count": 36,
   "metadata": {},
   "outputs": [],
   "source": [
    "import os\n",
    "\n",
    "from bluesky_tiled_plugins.queries import ScanID\n",
    "import dotenv\n",
    "from tiled.client import from_uri\n",
    "\n",
    "\n",
    "dotenv.load_dotenv()\n",
    "c = from_uri(\"https://tiled.nsls2.bnl.gov\", api_key=os.getenv('TILED_LIVE_API_KEY'))\n",
    "\n"
   ]
  },
  {
   "cell_type": "code",
   "execution_count": 39,
   "metadata": {},
   "outputs": [
    {
     "data": {
      "text/plain": [
       "<Container {'test', 'a11b21de-774f-4bbd-9234-fd927eaed47f', ...} ~2529199 entries>"
      ]
     },
     "execution_count": 39,
     "metadata": {},
     "output_type": "execute_result"
    }
   ],
   "source": [
    "smi = c['smi']['raw']\n",
    "# smi['843000']\n",
    "smi"
   ]
  },
  {
   "cell_type": "code",
   "execution_count": 74,
   "metadata": {},
   "outputs": [
    {
     "data": {
      "text/plain": [
       "<ArrayClient shape=(1, 600, 1043, 981) chunks=((1,), (10, 10, 10, 10, 10, 10, 10, 10, 10, 10, 10, 10, 10, 10, 10, 10, 10, 10, 10, 10, 10, 10, 10, 10, 10, 10, 10, 10, 10, 10, 10, 10, 10, 10, 10, 10, 10, 10, 10, 10, 10, 10, 10, 10, 10, 10, 10, 10, 10, 10, 10, 10, 10, 10, 10, 10, 10, 10, 10, 10), (1043,), (981,)) dtype=int32 dims=('time', 'dim_3', 'dim_4', 'dim_5')>"
      ]
     },
     "execution_count": 74,
     "metadata": {},
     "output_type": "execute_result"
    }
   ],
   "source": [
    "# scan.metadata['start']['scan_id']\n",
    "results = c['smi']['raw'].search(ScanID('843000'))\n",
    "results[results.keys()[0]]['primary']['data']['pil1M_image']"
   ]
  },
  {
   "cell_type": "code",
   "execution_count": null,
   "metadata": {},
   "outputs": [
    {
     "data": {
      "text/plain": [
       "<ArrayClient shape=(1, 600, 1043, 981) chunks=((1,), (10, 10, 10, 10, 10, 10, 10, 10, 10, 10, 10, 10, 10, 10, 10, 10, 10, 10, 10, 10, 10, 10, 10, 10, 10, 10, 10, 10, 10, 10, 10, 10, 10, 10, 10, 10, 10, 10, 10, 10, 10, 10, 10, 10, 10, 10, 10, 10, 10, 10, 10, 10, 10, 10, 10, 10, 10, 10, 10, 10), (1043,), (981,)) dtype=int32 dims=('time', 'dim_3', 'dim_4', 'dim_5')>"
      ]
     },
     "execution_count": 73,
     "metadata": {},
     "output_type": "execute_result"
    }
   ],
   "source": [
    "# scan['7f2074aa-c3d5-4510-8ac1-d8d2500a53b4']\n",
    "\n",
    "# smi['raw'][results.keys()[0]]\n",
    "#pil1M_image  saxs\n",
    "#pil900kw waxs"
   ]
  },
  {
   "cell_type": "code",
   "execution_count": null,
   "metadata": {},
   "outputs": [],
   "source": [
    "import bluesky_tiled_plugins.queries.ScanID"
   ]
  },
  {
   "cell_type": "code",
   "execution_count": 11,
   "metadata": {},
   "outputs": [
    {
     "data": {
      "text/plain": [
       "<ArrayClient shape=(1, 1, 619, 1475) chunks=((1,), (1,), (619,), (1475,)) dtype=int32 dims=('time', 'dim_0', 'dim_1', 'dim_2')>"
      ]
     },
     "execution_count": 11,
     "metadata": {},
     "output_type": "execute_result"
    }
   ],
   "source": [
    "from tiled.client.container import Container\n",
    "from functools import reduce\n",
    "import operator\n",
    "\n",
    "def run_frames(run: Container, segments: list):\n",
    "    container =  reduce(operator.getitem, segments, run)\n",
    "    return container\n",
    "\n",
    "\n",
    "\n",
    "data = run_frames(scan, ['primary', 'data', 'pil900KW_image'])\n",
    "data"
   ]
  },
  {
   "cell_type": "code",
   "execution_count": null,
   "metadata": {},
   "outputs": [],
   "source": [
    "data.shape"
   ]
  },
  {
   "cell_type": "code",
   "execution_count": 12,
   "metadata": {},
   "outputs": [
    {
     "name": "stdout",
     "output_type": "stream",
     "text": [
      "(600, 1, 619, 1475)\n"
     ]
    }
   ],
   "source": [
    "scan = smi['c21d472b-4241-4f48-8d62-a0b56e1d471d']\n",
    "frame_array = scan['primary']['data']['pil900KW_image']\n",
    "print(frame_array.shape)\n"
   ]
  },
  {
   "cell_type": "code",
   "execution_count": null,
   "metadata": {},
   "outputs": [
    {
     "data": {
      "text/plain": [
       "[[[-2  0  0 ...  0  0 -2]\n",
       "  [ 0  0  0 ...  0  0  0]\n",
       "  [ 0  0  0 ...  0  0  0]\n",
       "  ...\n",
       "  [ 0  0  0 ...  0  0  0]\n",
       "  [ 0  0  0 ...  0  0  0]\n",
       "  [ 0  0  0 ...  0  0  0]]]\n"
      ]
     },
     "metadata": {},
     "output_type": "display_data"
    }
   ],
   "source": [
    "frame_array[33]"
   ]
  },
  {
   "cell_type": "code",
   "execution_count": null,
   "metadata": {},
   "outputs": [],
   "source": []
  }
 ],
 "metadata": {
  "kernelspec": {
   "display_name": "Python 3",
   "language": "python",
   "name": "python3"
  },
  "language_info": {
   "codemirror_mode": {
    "name": "ipython",
    "version": 3
   },
   "file_extension": ".py",
   "mimetype": "text/x-python",
   "name": "python",
   "nbconvert_exporter": "python",
   "pygments_lexer": "ipython3",
   "version": "3.10.11"
  }
 },
 "nbformat": 4,
 "nbformat_minor": 2
}
