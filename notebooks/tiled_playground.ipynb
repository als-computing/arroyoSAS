{
 "cells": [
  {
   "cell_type": "code",
   "execution_count": 10,
   "metadata": {},
   "outputs": [],
   "source": [
    "import os\n",
    "\n",
    "from bluesky_tiled_plugins.queries import ScanID\n",
    "import dotenv\n",
    "from tiled.client import from_uri, tree\n",
    "\n",
    "\n",
    "dotenv.load_dotenv()\n",
    "c = from_uri(\"https://tiled.nsls2.bnl.gov\", api_key=os.getenv('TILED_LIVE_API_KEY'))\n",
    "\n"
   ]
  },
  {
   "cell_type": "code",
   "execution_count": 13,
   "metadata": {},
   "outputs": [
    {
     "name": "stdout",
     "output_type": "stream",
     "text": [
      "└── viz\n",
      "    └── tmp\n",
      "        └── runs\n",
      "            ├── 843286_406fbf51-c747-4634-8ee1-a8823049db08\n",
      "            ├── 843288_e57d22a0-0587-48df-a3a1-78079f416b67\n",
      "            ├── 843292_90f232b3-373b-47b7-bb0e-35e0cdcfe2e0\n",
      "            ├── 843293_11f25fca-e1ee-4849-9cdb-47fed0c74434\n",
      "            ├── 843294_e3ec7a50-0c0f-48e8-9051-a2f00085540d\n",
      "            ├── 843295_49bbdd52-c84e-47b1-9a79-d3ecdedf78df\n",
      "            │   └── one_d_reduction\n",
      "            ├── 843301_31fe73b7-314b-403d-b2d8-7f39fc7ffe6b\n",
      "            │   └── one_d_reduction\n",
      "            └── 843321_a701e21a-e36d-4085-b61b-b06d7d9caf9a\n",
      "                └── one_d_reduction\n"
     ]
    }
   ],
   "source": [
    "sand = c['smi']['sandbox']\n",
    "\n",
    "# smi['843000']\n",
    "tree(sand)"
   ]
  },
  {
   "cell_type": "code",
   "execution_count": null,
   "metadata": {},
   "outputs": [
    {
     "data": {
      "text/plain": [
       "<ArrayClient shape=(1, 600, 1043, 981) chunks=((1,), (10, 10, 10, 10, 10, 10, 10, 10, 10, 10, 10, 10, 10, 10, 10, 10, 10, 10, 10, 10, 10, 10, 10, 10, 10, 10, 10, 10, 10, 10, 10, 10, 10, 10, 10, 10, 10, 10, 10, 10, 10, 10, 10, 10, 10, 10, 10, 10, 10, 10, 10, 10, 10, 10, 10, 10, 10, 10, 10, 10), (1043,), (981,)) dtype=int32 dims=('time', 'dim_3', 'dim_4', 'dim_5')>"
      ]
     },
     "execution_count": 74,
     "metadata": {},
     "output_type": "execute_result"
    }
   ],
   "source": [
    "\n",
    "\n",
    "# scan.metadata['start']['scan_id']\n",
    "# results = c['smi']['raw'].search(ScanID('843000'))\n",
    "# results[results.keys()[0]]['primary']['data']['pil1M_image']"
   ]
  },
  {
   "cell_type": "code",
   "execution_count": null,
   "metadata": {},
   "outputs": [
    {
     "data": {
      "text/plain": [
       "<ArrayClient shape=(1, 600, 1043, 981) chunks=((1,), (10, 10, 10, 10, 10, 10, 10, 10, 10, 10, 10, 10, 10, 10, 10, 10, 10, 10, 10, 10, 10, 10, 10, 10, 10, 10, 10, 10, 10, 10, 10, 10, 10, 10, 10, 10, 10, 10, 10, 10, 10, 10, 10, 10, 10, 10, 10, 10, 10, 10, 10, 10, 10, 10, 10, 10, 10, 10, 10, 10), (1043,), (981,)) dtype=int32 dims=('time', 'dim_3', 'dim_4', 'dim_5')>"
      ]
     },
     "execution_count": 73,
     "metadata": {},
     "output_type": "execute_result"
    }
   ],
   "source": [
    "# scan['7f2074aa-c3d5-4510-8ac1-d8d2500a53b4']\n",
    "\n",
    "# smi['raw'][results.keys()[0]]\n",
    "#pil1M_image  saxs\n",
    "#pil900kw waxs"
   ]
  },
  {
   "cell_type": "code",
   "execution_count": null,
   "metadata": {},
   "outputs": [],
   "source": [
    "import bluesky_tiled_plugins.queries.ScanID"
   ]
  },
  {
   "cell_type": "code",
   "execution_count": 14,
   "metadata": {},
   "outputs": [
    {
     "ename": "NameError",
     "evalue": "name 'scan' is not defined",
     "output_type": "error",
     "traceback": [
      "\u001b[0;31m---------------------------------------------------------------------------\u001b[0m",
      "\u001b[0;31mNameError\u001b[0m                                 Traceback (most recent call last)",
      "Cell \u001b[0;32mIn[14], line 11\u001b[0m\n\u001b[1;32m      6\u001b[0m     container \u001b[38;5;241m=\u001b[39m  reduce(operator\u001b[38;5;241m.\u001b[39mgetitem, segments, run)\n\u001b[1;32m      7\u001b[0m     \u001b[38;5;28;01mreturn\u001b[39;00m container\n\u001b[0;32m---> 11\u001b[0m data \u001b[38;5;241m=\u001b[39m run_frames(\u001b[43mscan\u001b[49m, [\u001b[38;5;124m'\u001b[39m\u001b[38;5;124mprimary\u001b[39m\u001b[38;5;124m'\u001b[39m, \u001b[38;5;124m'\u001b[39m\u001b[38;5;124mdata\u001b[39m\u001b[38;5;124m'\u001b[39m, \u001b[38;5;124m'\u001b[39m\u001b[38;5;124mpil900KW_image\u001b[39m\u001b[38;5;124m'\u001b[39m])\n\u001b[1;32m     12\u001b[0m data\n",
      "\u001b[0;31mNameError\u001b[0m: name 'scan' is not defined"
     ]
    }
   ],
   "source": [
    "from tiled.client.container import Container\n",
    "from functools import reduce\n",
    "import operator\n",
    "\n",
    "def run_frames(run: Container, segments: list):\n",
    "    container =  reduce(operator.getitem, segments, run)\n",
    "    return container\n",
    "\n",
    "\n",
    "\n",
    "data = run_frames(scan, ['primary', 'data', 'pil900KW_image'])\n",
    "data"
   ]
  },
  {
   "cell_type": "code",
   "execution_count": null,
   "metadata": {},
   "outputs": [],
   "source": [
    "data.shape"
   ]
  },
  {
   "cell_type": "code",
   "execution_count": 12,
   "metadata": {},
   "outputs": [
    {
     "name": "stdout",
     "output_type": "stream",
     "text": [
      "(600, 1, 619, 1475)\n"
     ]
    }
   ],
   "source": [
    "scan = smi['c21d472b-4241-4f48-8d62-a0b56e1d471d']\n",
    "frame_array = scan['primary']['data']['pil900KW_image']\n",
    "print(frame_array.shape)\n"
   ]
  },
  {
   "cell_type": "code",
   "execution_count": null,
   "metadata": {},
   "outputs": [
    {
     "data": {
      "text/plain": [
       "[[[-2  0  0 ...  0  0 -2]\n",
       "  [ 0  0  0 ...  0  0  0]\n",
       "  [ 0  0  0 ...  0  0  0]\n",
       "  ...\n",
       "  [ 0  0  0 ...  0  0  0]\n",
       "  [ 0  0  0 ...  0  0  0]\n",
       "  [ 0  0  0 ...  0  0  0]]]\n"
      ]
     },
     "metadata": {},
     "output_type": "display_data"
    }
   ],
   "source": [
    "frame_array[33]"
   ]
  },
  {
   "cell_type": "code",
   "execution_count": null,
   "metadata": {},
   "outputs": [],
   "source": []
  }
 ],
 "metadata": {
  "kernelspec": {
   "display_name": "Python 3",
   "language": "python",
   "name": "python3"
  },
  "language_info": {
   "codemirror_mode": {
    "name": "ipython",
    "version": 3
   },
   "file_extension": ".py",
   "mimetype": "text/x-python",
   "name": "python",
   "nbconvert_exporter": "python",
   "pygments_lexer": "ipython3",
   "version": "3.11.11"
  }
 },
 "nbformat": 4,
 "nbformat_minor": 2
}
