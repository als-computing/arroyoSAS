{
 "cells": [
  {
   "cell_type": "code",
   "execution_count": 10,
   "metadata": {},
   "outputs": [],
   "source": [
    "import os\n",
    "\n",
    "import dotenv\n",
    "from tiled.client import from_uri\n",
    "\n",
    "dotenv.load_dotenv()\n",
    "c = from_uri(\"https://tiled.nsls2.bnl.gov\", api_key=os.getenv('TILED_LIVE_API_KEY'))\n",
    "smi = c['smi']['raw']\n"
   ]
  },
  {
   "cell_type": "code",
   "execution_count": 7,
   "metadata": {},
   "outputs": [],
   "source": [
    "uid = smi.keys()[-10000]\n",
    "scan = smi[uid]"
   ]
  },
  {
   "cell_type": "code",
   "execution_count": 8,
   "metadata": {},
   "outputs": [
    {
     "data": {
      "text/plain": [
       "<ArrayClient shape=(1, 1, 619, 1475) chunks=((1,), (1,), (619,), (1475,)) dtype=int32 dims=('time', 'dim_0', 'dim_1', 'dim_2')>"
      ]
     },
     "execution_count": 8,
     "metadata": {},
     "output_type": "execute_result"
    }
   ],
   "source": [
    "scan['primary']['data']['pil900KW_image']"
   ]
  },
  {
   "cell_type": "code",
   "execution_count": 9,
   "metadata": {},
   "outputs": [
    {
     "data": {
      "text/plain": [
       "'https://tiled.nsls2.bnl.gov/api/v1/metadata/smi/raw/2c6e404f-7eff-40f7-87ef-6744d529cdc6'"
      ]
     },
     "execution_count": 9,
     "metadata": {},
     "output_type": "execute_result"
    }
   ],
   "source": [
    "scan.uri"
   ]
  },
  {
   "cell_type": "code",
   "execution_count": 11,
   "metadata": {},
   "outputs": [
    {
     "data": {
      "text/plain": [
       "<ArrayClient shape=(1, 1, 619, 1475) chunks=((1,), (1,), (619,), (1475,)) dtype=int32 dims=('time', 'dim_0', 'dim_1', 'dim_2')>"
      ]
     },
     "execution_count": 11,
     "metadata": {},
     "output_type": "execute_result"
    }
   ],
   "source": [
    "from tiled.client.container import Container\n",
    "from functools import reduce\n",
    "import operator\n",
    "\n",
    "def run_frames(run: Container, segments: list):\n",
    "    container =  reduce(operator.getitem, segments, run)\n",
    "    return container\n",
    "\n",
    "\n",
    "\n",
    "data = run_frames(scan, ['primary', 'data', 'pil900KW_image'])\n",
    "data"
   ]
  },
  {
   "cell_type": "code",
   "execution_count": null,
   "metadata": {},
   "outputs": [],
   "source": [
    "data.shape"
   ]
  },
  {
   "cell_type": "code",
   "execution_count": 12,
   "metadata": {},
   "outputs": [
    {
     "name": "stdout",
     "output_type": "stream",
     "text": [
      "(600, 1, 619, 1475)\n"
     ]
    }
   ],
   "source": [
    "scan = smi['c21d472b-4241-4f48-8d62-a0b56e1d471d']\n",
    "frame_array = scan['primary']['data']['pil900KW_image']\n",
    "print(frame_array.shape)\n"
   ]
  },
  {
   "cell_type": "code",
   "execution_count": null,
   "metadata": {},
   "outputs": [
    {
     "data": {
      "text/plain": [
       "[[[-2  0  0 ...  0  0 -2]\n",
       "  [ 0  0  0 ...  0  0  0]\n",
       "  [ 0  0  0 ...  0  0  0]\n",
       "  ...\n",
       "  [ 0  0  0 ...  0  0  0]\n",
       "  [ 0  0  0 ...  0  0  0]\n",
       "  [ 0  0  0 ...  0  0  0]]]\n"
      ]
     },
     "metadata": {},
     "output_type": "display_data"
    }
   ],
   "source": [
    "frame_array[33]"
   ]
  },
  {
   "cell_type": "code",
   "execution_count": null,
   "metadata": {},
   "outputs": [],
   "source": []
  }
 ],
 "metadata": {
  "kernelspec": {
   "display_name": "gisaxs",
   "language": "python",
   "name": "python3"
  },
  "language_info": {
   "codemirror_mode": {
    "name": "ipython",
    "version": 3
   },
   "file_extension": ".py",
   "mimetype": "text/x-python",
   "name": "python",
   "nbconvert_exporter": "python",
   "pygments_lexer": "ipython3",
   "version": "3.11.11"
  }
 },
 "nbformat": 4,
 "nbformat_minor": 2
}
