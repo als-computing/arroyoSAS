{
 "cells": [
  {
   "cell_type": "code",
   "execution_count": 1,
   "metadata": {},
   "outputs": [
    {
     "data": {
      "text/plain": [
       "(600,)"
      ]
     },
     "execution_count": 1,
     "metadata": {},
     "output_type": "execute_result"
    }
   ],
   "source": [
    "import os\n",
    "\n",
    "import dotenv\n",
    "from tiled.client import from_uri\n",
    "\n",
    "dotenv.load_dotenv()\n",
    "c = from_uri(\"https://tiled.nsls2.bnl.gov\", api_key=os.getenv('TILED_LIVE_API_KEY'))\n",
    "smi = c['smi']\n",
    "scan = smi['raw']['c21d472b-4241-4f48-8d62-a0b56e1d471d']\n",
    "# scan = smi['raw'][820000]\n",
    "scan['primary']['data']['time'].shape"
   ]
  },
  {
   "cell_type": "code",
   "execution_count": 3,
   "metadata": {},
   "outputs": [
    {
     "data": {
      "text/plain": [
       "'https://tiled.nsls2.bnl.gov/api/v1/metadata/smi/raw/c21d472b-4241-4f48-8d62-a0b56e1d471d/primary/data'"
      ]
     },
     "execution_count": 3,
     "metadata": {},
     "output_type": "execute_result"
    }
   ],
   "source": [
    "image = scan['primary']['data']['pil900KW_image']\n",
    "image.shape\n",
    "scan['primary']['data'].uri"
   ]
  },
  {
   "cell_type": "code",
   "execution_count": null,
   "metadata": {},
   "outputs": [],
   "source": [
    "import matplotlib.pyplot as plt\n",
    "\n",
    "# Extract the image data\n",
    "image_data = image.read()\n",
    "\n",
    "# Plot the image\n",
    "plt.imshow(image_data[100, 0, :, :], cmap='viridis')\n",
    "plt.xlabel('X (dim_2)')\n",
    "plt.ylabel('Y (dim_1)')\n",
    "plt.title('Image Plot')\n",
    "plt.show()"
   ]
  },
  {
   "cell_type": "code",
   "execution_count": null,
   "metadata": {},
   "outputs": [],
   "source": [
    "scan['baseline']['data']['time'].shape"
   ]
  },
  {
   "cell_type": "code",
   "execution_count": 31,
   "metadata": {},
   "outputs": [],
   "source": [
    "stuff = smi['raw'].keys()[-1: -10: -1]"
   ]
  },
  {
   "cell_type": "code",
   "execution_count": 32,
   "metadata": {},
   "outputs": [
    {
     "data": {
      "text/plain": [
       "['55091e53-a19c-44ae-97ff-bded543e1a59',\n",
       " 'ea44037a-5cac-4294-ac22-bed9706508bf',\n",
       " '68a604d8-3204-464c-82b6-ca416ee697e4',\n",
       " '20cc5551-da8b-4d02-b02b-a1105d628865',\n",
       " '9831b54f-18af-42e4-b603-7eb04b6633d7',\n",
       " '088d4936-322c-4d55-9909-386376c0c3a5',\n",
       " '4edf10e3-e4b0-4d95-bb81-0de4735c1503',\n",
       " 'd7405971-072c-4844-9d68-04cbea6727b4',\n",
       " 'f3c085d5-f7d5-4938-acca-3e1280479098']"
      ]
     },
     "execution_count": 32,
     "metadata": {},
     "output_type": "execute_result"
    }
   ],
   "source": [
    "stuff"
   ]
  },
  {
   "cell_type": "code",
   "execution_count": 42,
   "metadata": {},
   "outputs": [],
   "source": [
    "scan = smi['raw']['20cc5551-da8b-4d02-b02b-a1105d628865']"
   ]
  },
  {
   "cell_type": "code",
   "execution_count": 44,
   "metadata": {},
   "outputs": [
    {
     "data": {
      "text/plain": [
       "{'start': {'SAF_number': 314711,\n",
       "           'SAXS_setup': {'beam_centre': [500, 559],\n",
       "                          'bs': 'pindiode',\n",
       "                          'energy': 16100,\n",
       "                          'sdd': 9200},\n",
       "           'beamline_attenuators': {},\n",
       "           'beamline_beamsize': 'low_divergence',\n",
       "           'beamline_name': 'SMI',\n",
       "           'beamline_sample_environment': 'in-vacuum',\n",
       "           'cycle': '2025_1',\n",
       "           'detectors': ['pil1M'],\n",
       "           'facility': 'NSLS-II',\n",
       "           'hints': {'dimensions': [[['time'], 'primary']]},\n",
       "           'main_proposer': 'Freychet',\n",
       "           'num_intervals': 0,\n",
       "           'num_points': 1,\n",
       "           'optional_comments': '',\n",
       "           'path': '/nsls2/data/smi/legacy/results/data/2025_1/314483_Freychet_08',\n",
       "           'plan_args': {'delay': None,\n",
       "                         'detectors': [\"Pilatus(prefix='XF:12IDC-ES:2{Det:1M}', \"\n",
       "                                       \"name='pil1M', read_attrs=['cam', \"\n",
       "                                       \"'cam.file_number', 'tiff', 'stats1', \"\n",
       "                                       \"'stats1.total'], \"\n",
       "                                       \"configuration_attrs=['cam', \"\n",
       "                                       \"'cam.acquire_period', \"\n",
       "                                       \"'cam.acquire_time', 'cam.image_mode', \"\n",
       "                                       \"'cam.manufacturer', 'cam.model', \"\n",
       "                                       \"'cam.num_exposures', 'cam.num_images', \"\n",
       "                                       \"'cam.trigger_mode', 'tiff', 'stats1', \"\n",
       "                                       \"'stats1.bgd_width', \"\n",
       "                                       \"'stats1.centroid_threshold', \"\n",
       "                                       \"'stats1.compute_centroid', \"\n",
       "                                       \"'stats1.compute_histogram', \"\n",
       "                                       \"'stats1.compute_profiles', \"\n",
       "                                       \"'stats1.compute_statistics', \"\n",
       "                                       \"'stats1.hist_max', 'stats1.hist_min', \"\n",
       "                                       \"'stats1.hist_size', \"\n",
       "                                       \"'stats1.profile_cursor', \"\n",
       "                                       \"'stats1.profile_size', \"\n",
       "                                       \"'stats1.ts_num_points'])\"],\n",
       "                         'num': 1},\n",
       "           'plan_name': 'count',\n",
       "           'plan_type': 'generator',\n",
       "           'proposal_id': '314483_Freychet_08',\n",
       "           'proposal_number': '314483',\n",
       "           'sample_name': 'test',\n",
       "           'scan_id': 889370,\n",
       "           'th0': -1.6989809999999999,\n",
       "           'time': 1739380269.4082222,\n",
       "           'tstamp': 1738911286.5579278,\n",
       "           'uid': '20cc5551-da8b-4d02-b02b-a1105d628865',\n",
       "           'user_name': 'test'},\n",
       " 'stop': {'exit_status': 'success',\n",
       "          'num_events': {'baseline': 2, 'primary': 1},\n",
       "          'reason': '',\n",
       "          'run_start': '20cc5551-da8b-4d02-b02b-a1105d628865',\n",
       "          'time': 1739380271.1774254,\n",
       "          'uid': 'e279d884-4da8-49a8-a162-003efecf9e59'},\n",
       " 'summary': {'datetime': datetime.datetime(2025, 2, 12, 17, 11, 9, 408222, tzinfo=datetime.timezone.utc),\n",
       "             'duration': 1.7692031860351562,\n",
       "             'plan_name': 'count',\n",
       "             'scan_id': 889370,\n",
       "             'stream_names': ['baseline', 'primary'],\n",
       "             'timestamp': 1739380269.4082222,\n",
       "             'uid': '20cc5551-da8b-4d02-b02b-a1105d628865'}}"
      ]
     },
     "execution_count": 44,
     "metadata": {},
     "output_type": "execute_result"
    }
   ],
   "source": [
    "scan.metadata\n"
   ]
  },
  {
   "cell_type": "code",
   "execution_count": null,
   "metadata": {},
   "outputs": [],
   "source": []
  }
 ],
 "metadata": {
  "kernelspec": {
   "display_name": "gisaxs",
   "language": "python",
   "name": "python3"
  },
  "language_info": {
   "codemirror_mode": {
    "name": "ipython",
    "version": 3
   },
   "file_extension": ".py",
   "mimetype": "text/x-python",
   "name": "python",
   "nbconvert_exporter": "python",
   "pygments_lexer": "ipython3",
   "version": "3.11.11"
  }
 },
 "nbformat": 4,
 "nbformat_minor": 2
}
